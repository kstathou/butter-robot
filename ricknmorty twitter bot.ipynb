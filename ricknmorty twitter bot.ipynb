{
 "cells": [
  {
   "cell_type": "code",
   "execution_count": null,
   "metadata": {
    "collapsed": true
   },
   "outputs": [],
   "source": [
    "import time\n",
    "import tweepy\n",
    "import requests\n",
    "import numpy as np\n",
    "from twitter_credentials import *"
   ]
  },
  {
   "cell_type": "code",
   "execution_count": null,
   "metadata": {
    "collapsed": true
   },
   "outputs": [],
   "source": [
    "class ButterRobot():\n",
    "    def __init__(self):\n",
    "        self.base_url = 'https://rickandmortyapi.com/api'\n",
    "        self.categories = ['/character', '/location', '/episode']\n",
    "        self.text = ['{} is seen in {} episodes.\\nLocation: {}\\nOrigin: {}\\nSpecies: {}\\nStatus: {}\\nType: {}', \n",
    "                     '{} has {} residents.\\nType: {}\\nDimension: {}', \n",
    "                     '{} was aired on {}\\nName: {}\\nNumber of characters: {}']\n",
    "\n",
    "    def request_url(self, entity_type, id_=''):\n",
    "        \"\"\"Make a request to the API using one of its main entity types ('/character' ... ) \"\"\"\n",
    "        r = requests.get(''.join([self.base_url, entity_type, ''.join(['/', str(id_)])]))\n",
    "        return r.json()\n",
    "    \n",
    "    def random_selection(self, elements):\n",
    "        return np.random.choice(elements)\n",
    "    \n",
    "    def get_info(self, category, response):\n",
    "        if category == self.categories[0]:\n",
    "            return self.text[0].format(response['name'], len(response['episode']), response['location']['name'], response['origin']['name'], response['species'], response['status'], response['type'])\n",
    "        elif category == self.categories[1]:\n",
    "            return self.text[1].format(response['name'], len(response['residents']), response['type'], response['dimension'])\n",
    "        else:\n",
    "            return self.text[2].format(response['episode'], response['air_date'], response['name'], len(response['characters']))"
   ]
  },
  {
   "cell_type": "code",
   "execution_count": null,
   "metadata": {
    "collapsed": true
   },
   "outputs": [],
   "source": [
    "def main():\n",
    "    auth = tweepy.OAuthHandler(consumer_key, consumer_secret)\n",
    "    auth.set_access_token(access_token, access_token_secret)\n",
    "    api = tweepy.API(auth)\n",
    "\n",
    "    morty_bot = ButterRobot()\n",
    "\n",
    "    nonstop_posting = True\n",
    "    \n",
    "    while nonstop_posting:\n",
    "        # Randomly select between posting info about characters, locations or episodes\n",
    "        category = morty_bot.random_selection(morty_bot.categories)\n",
    "        results = morty_bot.request_url(category)\n",
    "        \n",
    "        # Number of IDs in that category\n",
    "        ids = results['info']['count']\n",
    "        \n",
    "        # Randomly select and ID\n",
    "        id_ = morty_bot.random_selection(ids)\n",
    "        response = morty_bot.request_url(category, id_)\n",
    "        \n",
    "        try:\n",
    "            tweet = '\\n'.join(['#RickandMorty info:', morty_bot.get_info(category, response)])\n",
    "            api.update_status(tweet)\n",
    "        except tweepy.error.TweepError as e:\n",
    "            print(e)\n",
    "            old_post = [status.id for status in tweepy.Cursor(api.user_timeline).items() if status.text == tweet][0]\n",
    "            api.destroy_status(old_post)\n",
    "            api.update_status(tweet)\n",
    "            \n",
    "        time.sleep(15*60)"
   ]
  },
  {
   "cell_type": "code",
   "execution_count": null,
   "metadata": {
    "collapsed": true
   },
   "outputs": [],
   "source": [
    "main()"
   ]
  }
 ],
 "metadata": {
  "kernelspec": {
   "display_name": "Python [conda env:nesta]",
   "language": "python",
   "name": "conda-env-nesta-py"
  },
  "language_info": {
   "codemirror_mode": {
    "name": "ipython",
    "version": 3
   },
   "file_extension": ".py",
   "mimetype": "text/x-python",
   "name": "python",
   "nbconvert_exporter": "python",
   "pygments_lexer": "ipython3",
   "version": "3.5.2"
  }
 },
 "nbformat": 4,
 "nbformat_minor": 2
}
